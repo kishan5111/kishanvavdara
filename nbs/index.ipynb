{
 "cells": [
  {
   "cell_type": "markdown",
   "metadata": {},
   "source": []
  },
  {
   "cell_type": "markdown",
   "metadata": {},
   "source": [
    "**Hi there!** I'm Kishan, an self-taught machine learning engineer.\n",
    "\n",
    "In this website, I write about my work and learnings in Machine Learning. Check out the [Blog](/blog/) section!\n",
    "\n",
    "![](profile.jpeg)\n",
    "\n",
    "\n",
    "Feel free to connect with me in [LinkedIn](https://www.linkedin.com/in/kishan-vavdara-55680b190/?originalSubdomain=in)"
   ]
  }
 ],
 "metadata": {
  "kernelspec": {
   "display_name": "python3",
   "language": "python",
   "name": "python3"
  }
 },
 "nbformat": 4,
 "nbformat_minor": 4
}
